{
 "cells": [
  {
   "cell_type": "code",
   "execution_count": 1,
   "metadata": {},
   "outputs": [],
   "source": [
    "import tensorflow as tf\n",
    "from tensorflow.keras import datasets, layers, models\n",
    "import matplotlib.pyplot as plt\n",
    "import numpy as np\n",
    "%matplotlib inline"
   ]
  },
  {
   "cell_type": "code",
   "execution_count": 2,
   "metadata": {},
   "outputs": [
    {
     "data": {
      "text/plain": [
       "(50000, 32, 32, 3)"
      ]
     },
     "execution_count": 2,
     "metadata": {},
     "output_type": "execute_result"
    }
   ],
   "source": [
    "(X_train, y_train), (X_test,y_test) = datasets.cifar10.load_data()\n",
    "X_train.shape"
   ]
  },
  {
   "cell_type": "code",
   "execution_count": 3,
   "metadata": {},
   "outputs": [
    {
     "data": {
      "text/plain": [
       "(50000, 1)"
      ]
     },
     "execution_count": 3,
     "metadata": {},
     "output_type": "execute_result"
    }
   ],
   "source": [
    "y_train.shape"
   ]
  },
  {
   "cell_type": "code",
   "execution_count": 4,
   "metadata": {},
   "outputs": [
    {
     "data": {
      "text/plain": [
       "(10000, 32, 32, 3)"
      ]
     },
     "execution_count": 4,
     "metadata": {},
     "output_type": "execute_result"
    }
   ],
   "source": [
    "X_test.shape"
   ]
  },
  {
   "cell_type": "code",
   "execution_count": 5,
   "metadata": {},
   "outputs": [
    {
     "data": {
      "text/plain": [
       "array([[6],\n",
       "       [9],\n",
       "       [9],\n",
       "       [4],\n",
       "       [1]], dtype=uint8)"
      ]
     },
     "execution_count": 5,
     "metadata": {},
     "output_type": "execute_result"
    }
   ],
   "source": [
    "y_train[:5]"
   ]
  },
  {
   "cell_type": "code",
   "execution_count": 6,
   "metadata": {},
   "outputs": [
    {
     "data": {
      "text/plain": [
       "array([6, 9, 9, 4, 1], dtype=uint8)"
      ]
     },
     "execution_count": 6,
     "metadata": {},
     "output_type": "execute_result"
    }
   ],
   "source": [
    "# y_train is a 2D array, for our classification having 1D array is good enough. so we will convert this to now 1D array\n",
    "y_train = y_train.reshape(-1,) #reshaped 2d to 1d.\n",
    "y_train[:5]"
   ]
  },
  {
   "cell_type": "code",
   "execution_count": 7,
   "metadata": {},
   "outputs": [],
   "source": [
    "classes = [\"airplane\",\"automobile\",\"bird\",\"cat\",\"deer\",\"dog\",\"frog\",\"horse\",\"ship\",\"truck\"]"
   ]
  },
  {
   "cell_type": "code",
   "execution_count": 8,
   "metadata": {},
   "outputs": [],
   "source": [
    "def plot_sample(X, y, index):\n",
    "    plt.figure(figsize = (15,2))\n",
    "    plt.imshow(X[index])\n",
    "    plt.xlabel(classes[y[index]])"
   ]
  },
  {
   "cell_type": "code",
   "execution_count": 9,
   "metadata": {},
   "outputs": [
    {
     "data": {
      "image/png": "[encoded data removed]",
      "text/plain": [
       "<Figure size 1080x144 with 1 Axes>"
      ]
     },
     "metadata": {
      "needs_background": "light"
     },
     "output_type": "display_data"
    }
   ],
   "source": [
    "plot_sample(X_train, y_train, 0)"
   ]
  },
  {
   "cell_type": "code",
   "execution_count": 10,
   "metadata": {},
   "outputs": [],
   "source": [
    "# Normalize the images to a number from 0 to 1. \n",
    "# Image has 3 channels (R,G,B) and each value in the channel can range from 0 to 255.\n",
    "# Hence to normalize in 0-->1 range, we need to divide it by 255\n",
    "\n",
    "# Normalizing the training data\n",
    "\n",
    "X_train = X_train / 255.0\n",
    "X_test = X_test / 255.0"
   ]
  },
  {
   "cell_type": "code",
   "execution_count": 19,
   "metadata": {},
   "outputs": [],
   "source": [
    "ann = models.Sequential([\n",
    "        layers.Flatten(input_shape=(32,32,3)),\n",
    "        layers.Dense(4000, activation='relu'),\n",
    "        layers.Dense(1000, activation='relu'),\n",
    "        layers.Dense(500, activation='relu'),\n",
    "        layers.Dense(100, activation='relu'),\n",
    "        layers.Dense(50, activation='relu'),\n",
    "        layers.Dense(10, activation='softmax')    \n",
    "    ])\n",
    "\n",
    "ann.compile(optimizer='adam',\n",
    "              loss='sparse_categorical_crossentropy',\n",
    "              metrics=['accuracy'])"
   ]
  },
  {
   "cell_type": "code",
   "execution_count": 20,
   "metadata": {},
   "outputs": [
    {
     "name": "stdout",
     "output_type": "stream",
     "text": [
      "Epoch 1/100\n",
      "   1/1563 [..............................] - ETA: 10s - loss: 2.3296 - accuracy: 0.0938WARNING:tensorflow:Callbacks method `on_train_batch_end` is slow compared to the batch time (batch time: 0.0030s vs `on_train_batch_end` time: 0.0070s). Check your callbacks.\n",
      "1563/1563 [==============================] - 16s 10ms/step - loss: 1.9550 - accuracy: 0.2790\n",
      "Epoch 2/100\n",
      "1563/1563 [==============================] - 16s 10ms/step - loss: 1.7485 - accuracy: 0.3684\n",
      "Epoch 3/100\n",
      "1563/1563 [==============================] - 16s 10ms/step - loss: 1.6603 - accuracy: 0.4022\n",
      "Epoch 4/100\n",
      "1563/1563 [==============================] - 16s 10ms/step - loss: 1.5910 - accuracy: 0.4281\n",
      "Epoch 5/100\n",
      "1563/1563 [==============================] - 16s 10ms/step - loss: 1.5419 - accuracy: 0.4473\n",
      "Epoch 6/100\n",
      "1563/1563 [==============================] - 15s 10ms/step - loss: 1.4991 - accuracy: 0.4620\n",
      "Epoch 7/100\n",
      "1563/1563 [==============================] - 17s 11ms/step - loss: 1.4688 - accuracy: 0.4734\n",
      "Epoch 8/100\n",
      "1563/1563 [==============================] - 15s 10ms/step - loss: 1.4319 - accuracy: 0.4867\n",
      "Epoch 9/100\n",
      "1563/1563 [==============================] - 15s 10ms/step - loss: 1.4063 - accuracy: 0.4989\n",
      "Epoch 10/100\n",
      "1563/1563 [==============================] - 15s 10ms/step - loss: 1.3759 - accuracy: 0.5075\n",
      "Epoch 11/100\n",
      "1563/1563 [==============================] - 15s 10ms/step - loss: 1.3472 - accuracy: 0.5180\n",
      "Epoch 12/100\n",
      "1563/1563 [==============================] - 15s 10ms/step - loss: 1.3244 - accuracy: 0.5246\n",
      "Epoch 13/100\n",
      "1563/1563 [==============================] - 15s 10ms/step - loss: 1.2971 - accuracy: 0.5329\n",
      "Epoch 14/100\n",
      "1563/1563 [==============================] - 15s 10ms/step - loss: 1.2674 - accuracy: 0.5445\n",
      "Epoch 15/100\n",
      "1563/1563 [==============================] - 16s 10ms/step - loss: 1.2412 - accuracy: 0.5539\n",
      "Epoch 16/100\n",
      "1563/1563 [==============================] - 15s 10ms/step - loss: 1.2212 - accuracy: 0.5627\n",
      "Epoch 17/100\n",
      "1563/1563 [==============================] - 15s 10ms/step - loss: 1.1952 - accuracy: 0.5722\n",
      "Epoch 18/100\n",
      "1563/1563 [==============================] - 16s 11ms/step - loss: 1.1619 - accuracy: 0.5822\n",
      "Epoch 19/100\n",
      "1563/1563 [==============================] - 16s 11ms/step - loss: 1.1400 - accuracy: 0.5908\n",
      "Epoch 20/100\n",
      "1563/1563 [==============================] - 15s 10ms/step - loss: 1.1159 - accuracy: 0.6007\n",
      "Epoch 21/100\n",
      "1563/1563 [==============================] - 15s 10ms/step - loss: 1.0838 - accuracy: 0.6103\n",
      "Epoch 22/100\n",
      "1563/1563 [==============================] - 15s 10ms/step - loss: 1.0600 - accuracy: 0.6196\n",
      "Epoch 23/100\n",
      "1563/1563 [==============================] - 15s 10ms/step - loss: 1.0354 - accuracy: 0.6282\n",
      "Epoch 24/100\n",
      "1563/1563 [==============================] - 15s 10ms/step - loss: 1.0063 - accuracy: 0.6379\n",
      "Epoch 25/100\n",
      "1563/1563 [==============================] - 17s 11ms/step - loss: 0.9777 - accuracy: 0.6479\n",
      "Epoch 26/100\n",
      "1563/1563 [==============================] - 15s 10ms/step - loss: 0.9589 - accuracy: 0.6550\n",
      "Epoch 27/100\n",
      "1563/1563 [==============================] - 15s 10ms/step - loss: 0.9266 - accuracy: 0.6688\n",
      "Epoch 28/100\n",
      "1563/1563 [==============================] - 15s 10ms/step - loss: 0.9059 - accuracy: 0.6724\n",
      "Epoch 29/100\n",
      "1563/1563 [==============================] - 15s 10ms/step - loss: 0.8818 - accuracy: 0.6837\n",
      "Epoch 30/100\n",
      "1563/1563 [==============================] - 15s 10ms/step - loss: 0.8629 - accuracy: 0.6903\n",
      "Epoch 31/100\n",
      "1563/1563 [==============================] - 17s 11ms/step - loss: 0.8416 - accuracy: 0.6959\n",
      "Epoch 32/100\n",
      "1563/1563 [==============================] - 15s 10ms/step - loss: 0.8090 - accuracy: 0.7087\n",
      "Epoch 33/100\n",
      "1563/1563 [==============================] - 15s 10ms/step - loss: 0.7970 - accuracy: 0.7143\n",
      "Epoch 34/100\n",
      "1563/1563 [==============================] - 15s 10ms/step - loss: 0.7771 - accuracy: 0.7208\n",
      "Epoch 35/100\n",
      "1563/1563 [==============================] - 15s 10ms/step - loss: 0.7481 - accuracy: 0.7313\n",
      "Epoch 36/100\n",
      "1563/1563 [==============================] - 17s 11ms/step - loss: 0.7320 - accuracy: 0.7371\n",
      "Epoch 37/100\n",
      "1563/1563 [==============================] - 15s 10ms/step - loss: 0.7174 - accuracy: 0.7426\n",
      "Epoch 38/100\n",
      "1563/1563 [==============================] - 15s 10ms/step - loss: 0.7008 - accuracy: 0.7478\n",
      "Epoch 39/100\n",
      "1563/1563 [==============================] - 16s 10ms/step - loss: 0.6855 - accuracy: 0.7537\n",
      "Epoch 40/100\n",
      "1563/1563 [==============================] - 15s 10ms/step - loss: 0.6607 - accuracy: 0.7646\n",
      "Epoch 41/100\n",
      "1563/1563 [==============================] - 16s 10ms/step - loss: 0.6500 - accuracy: 0.7686\n",
      "Epoch 42/100\n",
      "1563/1563 [==============================] - 16s 10ms/step - loss: 0.6396 - accuracy: 0.7725\n",
      "Epoch 43/100\n",
      "1563/1563 [==============================] - 16s 10ms/step - loss: 0.6026 - accuracy: 0.7833\n",
      "Epoch 44/100\n",
      "1563/1563 [==============================] - 16s 10ms/step - loss: 0.6042 - accuracy: 0.7849\n",
      "Epoch 45/100\n",
      "1563/1563 [==============================] - 16s 10ms/step - loss: 0.5855 - accuracy: 0.7906\n",
      "Epoch 46/100\n",
      "1563/1563 [==============================] - 16s 11ms/step - loss: 0.5767 - accuracy: 0.7939\n",
      "Epoch 47/100\n",
      "1563/1563 [==============================] - 16s 11ms/step - loss: 0.5650 - accuracy: 0.7977\n",
      "Epoch 48/100\n",
      "1563/1563 [==============================] - 15s 10ms/step - loss: 0.5495 - accuracy: 0.8053\n",
      "Epoch 49/100\n",
      "1563/1563 [==============================] - 16s 10ms/step - loss: 0.5422 - accuracy: 0.8078\n",
      "Epoch 50/100\n",
      "1563/1563 [==============================] - 16s 11ms/step - loss: 0.5219 - accuracy: 0.8153\n",
      "Epoch 51/100\n",
      "1563/1563 [==============================] - 15s 10ms/step - loss: 0.5250 - accuracy: 0.8131\n",
      "Epoch 52/100\n",
      "1563/1563 [==============================] - 15s 10ms/step - loss: 0.4966 - accuracy: 0.8251\n",
      "Epoch 53/100\n",
      "1563/1563 [==============================] - 15s 10ms/step - loss: 0.4992 - accuracy: 0.8229\n",
      "Epoch 54/100\n",
      "1563/1563 [==============================] - 15s 10ms/step - loss: 0.4832 - accuracy: 0.8289\n",
      "Epoch 55/100\n",
      "1563/1563 [==============================] - 15s 10ms/step - loss: 0.4765 - accuracy: 0.8322\n",
      "Epoch 56/100\n",
      "1563/1563 [==============================] - 18s 11ms/step - loss: 0.4579 - accuracy: 0.8388\n",
      "Epoch 57/100\n",
      "1563/1563 [==============================] - 15s 10ms/step - loss: 0.4591 - accuracy: 0.8379\n",
      "Epoch 58/100\n",
      "1563/1563 [==============================] - 16s 10ms/step - loss: 0.4401 - accuracy: 0.84430s - loss: 0.4394 \n",
      "Epoch 59/100\n",
      "1563/1563 [==============================] - 16s 10ms/step - loss: 0.4345 - accuracy: 0.8463\n",
      "Epoch 60/100\n",
      "1563/1563 [==============================] - 15s 10ms/step - loss: 0.4252 - accuracy: 0.8507\n",
      "Epoch 61/100\n",
      "1563/1563 [==============================] - 16s 11ms/step - loss: 0.4236 - accuracy: 0.8528\n",
      "Epoch 62/100\n",
      "1563/1563 [==============================] - 16s 11ms/step - loss: 0.4204 - accuracy: 0.8527\n",
      "Epoch 63/100\n",
      "1563/1563 [==============================] - 15s 10ms/step - loss: 0.4103 - accuracy: 0.8569\n",
      "Epoch 64/100\n",
      "1563/1563 [==============================] - 15s 10ms/step - loss: 0.3978 - accuracy: 0.8610\n",
      "Epoch 65/100\n",
      "1563/1563 [==============================] - 17s 11ms/step - loss: 0.3974 - accuracy: 0.8630\n",
      "Epoch 66/100\n",
      "1563/1563 [==============================] - 15s 10ms/step - loss: 0.3856 - accuracy: 0.8652\n",
      "Epoch 67/100\n",
      "1563/1563 [==============================] - 15s 10ms/step - loss: 0.3796 - accuracy: 0.8671\n",
      "Epoch 68/100\n",
      "1563/1563 [==============================] - 16s 10ms/step - loss: 0.3782 - accuracy: 0.8688\n",
      "Epoch 69/100\n",
      "1563/1563 [==============================] - 17s 11ms/step - loss: 0.3646 - accuracy: 0.8725\n",
      "Epoch 70/100\n",
      "1563/1563 [==============================] - 15s 10ms/step - loss: 0.3599 - accuracy: 0.8741\n",
      "Epoch 71/100\n",
      "1563/1563 [==============================] - 17s 11ms/step - loss: 0.3601 - accuracy: 0.8752\n",
      "Epoch 72/100\n",
      "1563/1563 [==============================] - 15s 10ms/step - loss: 0.3623 - accuracy: 0.8745\n",
      "Epoch 73/100\n",
      "1563/1563 [==============================] - 18s 11ms/step - loss: 0.3355 - accuracy: 0.8825\n",
      "Epoch 74/100\n",
      "1563/1563 [==============================] - 16s 10ms/step - loss: 0.3494 - accuracy: 0.8803\n",
      "Epoch 75/100\n"
     ]
    },
    {
     "name": "stdout",
     "output_type": "stream",
     "text": [
      "1563/1563 [==============================] - 15s 10ms/step - loss: 0.3387 - accuracy: 0.8838\n",
      "Epoch 76/100\n",
      "1563/1563 [==============================] - 16s 10ms/step - loss: 0.3305 - accuracy: 0.8871\n",
      "Epoch 77/100\n",
      "1563/1563 [==============================] - 16s 11ms/step - loss: 0.3378 - accuracy: 0.8849\n",
      "Epoch 78/100\n",
      "1563/1563 [==============================] - 15s 10ms/step - loss: 0.3266 - accuracy: 0.8879\n",
      "Epoch 79/100\n",
      "1563/1563 [==============================] - 15s 10ms/step - loss: 0.3142 - accuracy: 0.8913\n",
      "Epoch 80/100\n",
      "1563/1563 [==============================] - 15s 10ms/step - loss: 0.3306 - accuracy: 0.8884\n",
      "Epoch 81/100\n",
      "1563/1563 [==============================] - 16s 10ms/step - loss: 0.3139 - accuracy: 0.8931\n",
      "Epoch 82/100\n",
      "1563/1563 [==============================] - 15s 10ms/step - loss: 0.3099 - accuracy: 0.8935\n",
      "Epoch 83/100\n",
      "1563/1563 [==============================] - 15s 10ms/step - loss: 0.3023 - accuracy: 0.8963\n",
      "Epoch 84/100\n",
      "1563/1563 [==============================] - 16s 10ms/step - loss: 0.3274 - accuracy: 0.8901\n",
      "Epoch 85/100\n",
      "1563/1563 [==============================] - 15s 10ms/step - loss: 0.2904 - accuracy: 0.9009\n",
      "Epoch 86/100\n",
      "1563/1563 [==============================] - 18s 12ms/step - loss: 0.2910 - accuracy: 0.9003\n",
      "Epoch 87/100\n",
      "1563/1563 [==============================] - 15s 10ms/step - loss: 0.2905 - accuracy: 0.9010\n",
      "Epoch 88/100\n",
      "1563/1563 [==============================] - 16s 11ms/step - loss: 0.2884 - accuracy: 0.9028\n",
      "Epoch 89/100\n",
      "1563/1563 [==============================] - 15s 10ms/step - loss: 0.2875 - accuracy: 0.9009\n",
      "Epoch 90/100\n",
      "1563/1563 [==============================] - 16s 10ms/step - loss: 0.2761 - accuracy: 0.9077\n",
      "Epoch 91/100\n",
      "1563/1563 [==============================] - 15s 10ms/step - loss: 0.2970 - accuracy: 0.9004\n",
      "Epoch 92/100\n",
      "1563/1563 [==============================] - 17s 11ms/step - loss: 0.2638 - accuracy: 0.9127\n",
      "Epoch 93/100\n",
      "1563/1563 [==============================] - 15s 10ms/step - loss: 0.2747 - accuracy: 0.9075\n",
      "Epoch 94/100\n",
      "1563/1563 [==============================] - 15s 10ms/step - loss: 0.2616 - accuracy: 0.9102\n",
      "Epoch 95/100\n",
      "1563/1563 [==============================] - 15s 10ms/step - loss: 0.2609 - accuracy: 0.9137\n",
      "Epoch 96/100\n",
      "1563/1563 [==============================] - 15s 10ms/step - loss: 0.2688 - accuracy: 0.9098\n",
      "Epoch 97/100\n",
      "1563/1563 [==============================] - 15s 10ms/step - loss: 0.2590 - accuracy: 0.9132\n",
      "Epoch 98/100\n",
      "1563/1563 [==============================] - 15s 10ms/step - loss: 0.2651 - accuracy: 0.9106\n",
      "Epoch 99/100\n",
      "1563/1563 [==============================] - 17s 11ms/step - loss: 0.2491 - accuracy: 0.9141\n",
      "Epoch 100/100\n",
      "1563/1563 [==============================] - 15s 10ms/step - loss: 0.2613 - accuracy: 0.9127\n"
     ]
    }
   ],
   "source": [
    "history_ann_model = ann.fit(X_train, y_train, epochs=100)"
   ]
  },
  {
   "cell_type": "code",
   "execution_count": 18,
   "metadata": {},
   "outputs": [
    {
     "name": "stdout",
     "output_type": "stream",
     "text": [
      "313/313 [==============================] - 1s 2ms/step - loss: 3.2941 - accuracy: 0.4750\n"
     ]
    },
    {
     "data": {
      "text/plain": [
       "[3.294105052947998, 0.4749999940395355]"
      ]
     },
     "execution_count": 18,
     "metadata": {},
     "output_type": "execute_result"
    }
   ],
   "source": [
    "ann.evaluate(X_test,y_test)"
   ]
  },
  {
   "cell_type": "code",
   "execution_count": 24,
   "metadata": {},
   "outputs": [
    {
     "data": {
      "text/plain": [
       "{'verbose': 1, 'epochs': 100, 'steps': 1563}"
      ]
     },
     "execution_count": 24,
     "metadata": {},
     "output_type": "execute_result"
    }
   ],
   "source": [
    "history_ann_model.params"
   ]
  },
  {
   "cell_type": "code",
   "execution_count": 25,
   "metadata": {},
   "outputs": [
    {
     "name": "stdout",
     "output_type": "stream",
     "text": [
      "313/313 [==============================] - 1s 2ms/step - loss: 3.8178 - accuracy: 0.4684\n"
     ]
    },
    {
     "data": {
      "text/plain": [
       "[3.817751884460449, 0.4684000015258789]"
      ]
     },
     "execution_count": 25,
     "metadata": {},
     "output_type": "execute_result"
    }
   ],
   "source": [
    "ann.evaluate(X_test,y_test)"
   ]
  },
  {
   "cell_type": "code",
   "execution_count": 69,
   "metadata": {},
   "outputs": [
    {
     "data": {
      "image/png": "[encoded data removed]",
      "text/plain": [
       "<Figure size 432x288 with 1 Axes>"
      ]
     },
     "metadata": {
      "needs_background": "light"
     },
     "output_type": "display_data"
    }
   ],
   "source": [
    "plt.plot(history_ann_model.history['accuracy'])\n",
    "plt.plot(history_ann_model.history['loss'])\n",
    "\n",
    "plt.title('Ann : Training Accuracy & Loss')\n",
    "plt.ylabel('accuracy')\n",
    "plt.xlabel('epoch')\n",
    "plt.legend(['train', 'loss'], loc='upper left')\n",
    "plt.show()"
   ]
  },
  {
   "cell_type": "code",
   "execution_count": 63,
   "metadata": {},
   "outputs": [
    {
     "data": {
      "image/png": "[encoded data removed]",
      "text/plain": [
       "<Figure size 432x288 with 1 Axes>"
      ]
     },
     "metadata": {
      "needs_background": "light"
     },
     "output_type": "display_data"
    }
   ],
   "source": [
    "plt.plot(history_ann_model.history['loss'])\n",
    "plt.title('Ann')\n",
    "plt.ylabel('loss')\n",
    "plt.xlabel('epoch')\n",
    "plt.show()"
   ]
  },
  {
   "cell_type": "code",
   "execution_count": 64,
   "metadata": {},
   "outputs": [
    {
     "data": {
      "image/png": "[encoded data removed]",
      "text/plain": [
       "<Figure size 432x288 with 1 Axes>"
      ]
     },
     "metadata": {
      "needs_background": "light"
     },
     "output_type": "display_data"
    }
   ],
   "source": [
    "plt.plot(history_ann_model.history['accuracy'])\n",
    "plt.title('Ann')\n",
    "plt.ylabel('accuracy')\n",
    "plt.xlabel('epoch')\n",
    "plt.show()\n",
    "plt.show()"
   ]
  },
  {
   "cell_type": "code",
   "execution_count": 30,
   "metadata": {},
   "outputs": [
    {
     "name": "stdout",
     "output_type": "stream",
     "text": [
      "Classification Report: \n",
      "               precision    recall  f1-score   support\n",
      "\n",
      "           0       0.53      0.58      0.56      1000\n",
      "           1       0.63      0.52      0.57      1000\n",
      "           2       0.38      0.30      0.33      1000\n",
      "           3       0.29      0.30      0.29      1000\n",
      "           4       0.41      0.40      0.40      1000\n",
      "           5       0.35      0.37      0.36      1000\n",
      "           6       0.49      0.55      0.52      1000\n",
      "           7       0.54      0.51      0.53      1000\n",
      "           8       0.57      0.62      0.59      1000\n",
      "           9       0.51      0.54      0.52      1000\n",
      "\n",
      "    accuracy                           0.47     10000\n",
      "   macro avg       0.47      0.47      0.47     10000\n",
      "weighted avg       0.47      0.47      0.47     10000\n",
      "\n"
     ]
    }
   ],
   "source": [
    "from sklearn.metrics import confusion_matrix , classification_report\n",
    "y_pred = ann.predict(X_test)\n",
    "y_pred_classes = [np.argmax(element) for element in y_pred]\n",
    "\n",
    "print(\"Classification Report: \\n\", classification_report(y_test, y_pred_classes))"
   ]
  },
  {
   "cell_type": "code",
   "execution_count": 31,
   "metadata": {},
   "outputs": [],
   "source": [
    "# mmm"
   ]
  },
  {
   "cell_type": "code",
   "execution_count": 32,
   "metadata": {},
   "outputs": [],
   "source": [
    "cnn = models.Sequential([\n",
    "    layers.Conv2D(filters=32, kernel_size=(3, 3), activation='relu', input_shape=(32, 32, 3)),\n",
    "    layers.MaxPooling2D((2, 2)),\n",
    "    \n",
    "    layers.Conv2D(filters=64, kernel_size=(3, 3), activation='relu'),\n",
    "    layers.MaxPooling2D((2, 2)),\n",
    "    \n",
    "    layers.Conv2D(filters=64, kernel_size=(3, 3), activation='relu'),\n",
    "    layers.MaxPooling2D((2, 2)),\n",
    "    \n",
    "    layers.Flatten(),\n",
    "    layers.Dense(64, activation='relu'),\n",
    "    layers.Dense(32, activation='relu'),\n",
    "    layers.Dense(10, activation='softmax')\n",
    "])\n",
    "\n",
    "cnn.compile(optimizer='adam',\n",
    "              loss='sparse_categorical_crossentropy',\n",
    "              metrics=['accuracy'])"
   ]
  },
  {
   "cell_type": "code",
   "execution_count": 33,
   "metadata": {},
   "outputs": [
    {
     "name": "stdout",
     "output_type": "stream",
     "text": [
      "Epoch 1/50\n",
      "1563/1563 [==============================] - 7s 4ms/step - loss: 1.6005 - accuracy: 0.4091\n",
      "Epoch 2/50\n",
      "1563/1563 [==============================] - 6s 4ms/step - loss: 1.2254 - accuracy: 0.5621\n",
      "Epoch 3/50\n",
      "1563/1563 [==============================] - 7s 4ms/step - loss: 1.0811 - accuracy: 0.6158\n",
      "Epoch 4/50\n",
      "1563/1563 [==============================] - 6s 4ms/step - loss: 0.9909 - accuracy: 0.6517\n",
      "Epoch 5/50\n",
      "1563/1563 [==============================] - 7s 4ms/step - loss: 0.9198 - accuracy: 0.6772\n",
      "Epoch 6/50\n",
      "1563/1563 [==============================] - 7s 4ms/step - loss: 0.8656 - accuracy: 0.6957\n",
      "Epoch 7/50\n",
      "1563/1563 [==============================] - 7s 4ms/step - loss: 0.8161 - accuracy: 0.7146\n",
      "Epoch 8/50\n",
      "1563/1563 [==============================] - 9s 6ms/step - loss: 0.7801 - accuracy: 0.7282: 1s\n",
      "Epoch 9/50\n",
      "1563/1563 [==============================] - 9s 6ms/step - loss: 0.7465 - accuracy: 0.7391\n",
      "Epoch 10/50\n",
      "1563/1563 [==============================] - 6s 4ms/step - loss: 0.7119 - accuracy: 0.7507\n",
      "Epoch 11/50\n",
      "1563/1563 [==============================] - 6s 4ms/step - loss: 0.6891 - accuracy: 0.7561\n",
      "Epoch 12/50\n",
      "1563/1563 [==============================] - 6s 4ms/step - loss: 0.6629 - accuracy: 0.7659\n",
      "Epoch 13/50\n",
      "1563/1563 [==============================] - 6s 4ms/step - loss: 0.6391 - accuracy: 0.7750\n",
      "Epoch 14/50\n",
      "1563/1563 [==============================] - 9s 6ms/step - loss: 0.6192 - accuracy: 0.7818\n",
      "Epoch 15/50\n",
      "1563/1563 [==============================] - 6s 4ms/step - loss: 0.5969 - accuracy: 0.7894\n",
      "Epoch 16/50\n",
      "1563/1563 [==============================] - 6s 4ms/step - loss: 0.5736 - accuracy: 0.7960\n",
      "Epoch 17/50\n",
      "1563/1563 [==============================] - 7s 4ms/step - loss: 0.5521 - accuracy: 0.8042\n",
      "Epoch 18/50\n",
      "1563/1563 [==============================] - 6s 4ms/step - loss: 0.5376 - accuracy: 0.8093\n",
      "Epoch 19/50\n",
      "1563/1563 [==============================] - 6s 4ms/step - loss: 0.5200 - accuracy: 0.8153\n",
      "Epoch 20/50\n",
      "1563/1563 [==============================] - 7s 4ms/step - loss: 0.5014 - accuracy: 0.8229\n",
      "Epoch 21/50\n",
      "1563/1563 [==============================] - 7s 4ms/step - loss: 0.4839 - accuracy: 0.8296\n",
      "Epoch 22/50\n",
      "1563/1563 [==============================] - 7s 4ms/step - loss: 0.4684 - accuracy: 0.8325\n",
      "Epoch 23/50\n",
      "1563/1563 [==============================] - 7s 4ms/step - loss: 0.4552 - accuracy: 0.8372\n",
      "Epoch 24/50\n",
      "1563/1563 [==============================] - 9s 6ms/step - loss: 0.4386 - accuracy: 0.8444\n",
      "Epoch 25/50\n",
      "1563/1563 [==============================] - 7s 4ms/step - loss: 0.4317 - accuracy: 0.8461\n",
      "Epoch 26/50\n",
      "1563/1563 [==============================] - 10s 6ms/step - loss: 0.4127 - accuracy: 0.8538\n",
      "Epoch 27/50\n",
      "1563/1563 [==============================] - 7s 5ms/step - loss: 0.4045 - accuracy: 0.8553\n",
      "Epoch 28/50\n",
      "1563/1563 [==============================] - 6s 4ms/step - loss: 0.3946 - accuracy: 0.8593\n",
      "Epoch 29/50\n",
      "1563/1563 [==============================] - 7s 4ms/step - loss: 0.3785 - accuracy: 0.8660\n",
      "Epoch 30/50\n",
      "1563/1563 [==============================] - 7s 4ms/step - loss: 0.3717 - accuracy: 0.8674\n",
      "Epoch 31/50\n",
      "1563/1563 [==============================] - 7s 4ms/step - loss: 0.3620 - accuracy: 0.8701\n",
      "Epoch 32/50\n",
      "1563/1563 [==============================] - 7s 4ms/step - loss: 0.3550 - accuracy: 0.8735\n",
      "Epoch 33/50\n",
      "1563/1563 [==============================] - 7s 4ms/step - loss: 0.3393 - accuracy: 0.8782\n",
      "Epoch 34/50\n",
      "1563/1563 [==============================] - 7s 4ms/step - loss: 0.3324 - accuracy: 0.8806\n",
      "Epoch 35/50\n",
      "1563/1563 [==============================] - 9s 6ms/step - loss: 0.3236 - accuracy: 0.8847\n",
      "Epoch 36/50\n",
      "1563/1563 [==============================] - 7s 4ms/step - loss: 0.3091 - accuracy: 0.8888\n",
      "Epoch 37/50\n",
      "1563/1563 [==============================] - 7s 4ms/step - loss: 0.3048 - accuracy: 0.8910\n",
      "Epoch 38/50\n",
      "1563/1563 [==============================] - 7s 4ms/step - loss: 0.2978 - accuracy: 0.8932\n",
      "Epoch 39/50\n",
      "1563/1563 [==============================] - 7s 4ms/step - loss: 0.2997 - accuracy: 0.8922\n",
      "Epoch 40/50\n",
      "1563/1563 [==============================] - 7s 4ms/step - loss: 0.2847 - accuracy: 0.8970: 0s - loss: 0.2821 \n",
      "Epoch 41/50\n",
      "1563/1563 [==============================] - 7s 4ms/step - loss: 0.2718 - accuracy: 0.9024\n",
      "Epoch 42/50\n",
      "1563/1563 [==============================] - 7s 4ms/step - loss: 0.2711 - accuracy: 0.9027\n",
      "Epoch 43/50\n",
      "1563/1563 [==============================] - 7s 4ms/step - loss: 0.2633 - accuracy: 0.9049\n",
      "Epoch 44/50\n",
      "1563/1563 [==============================] - 7s 4ms/step - loss: 0.2656 - accuracy: 0.9060\n",
      "Epoch 45/50\n",
      "1563/1563 [==============================] - 7s 4ms/step - loss: 0.2554 - accuracy: 0.9097\n",
      "Epoch 46/50\n",
      "1563/1563 [==============================] - 7s 4ms/step - loss: 0.2486 - accuracy: 0.9111\n",
      "Epoch 47/50\n",
      "1563/1563 [==============================] - 9s 5ms/step - loss: 0.2459 - accuracy: 0.9114\n",
      "Epoch 48/50\n",
      "1563/1563 [==============================] - 7s 4ms/step - loss: 0.2404 - accuracy: 0.9133\n",
      "Epoch 49/50\n",
      "1563/1563 [==============================] - 7s 4ms/step - loss: 0.2390 - accuracy: 0.9142\n",
      "Epoch 50/50\n",
      "1563/1563 [==============================] - 7s 4ms/step - loss: 0.2312 - accuracy: 0.9175\n"
     ]
    }
   ],
   "source": [
    "cnn_history = cnn.fit(X_train, y_train, epochs=50)"
   ]
  },
  {
   "cell_type": "code",
   "execution_count": 34,
   "metadata": {},
   "outputs": [
    {
     "data": {
      "text/plain": [
       "{'verbose': 1, 'epochs': 50, 'steps': 1563}"
      ]
     },
     "execution_count": 34,
     "metadata": {},
     "output_type": "execute_result"
    }
   ],
   "source": [
    "cnn_history.params"
   ]
  },
  {
   "cell_type": "code",
   "execution_count": 35,
   "metadata": {},
   "outputs": [
    {
     "name": "stdout",
     "output_type": "stream",
     "text": [
      "313/313 [==============================] - 1s 2ms/step - loss: 1.6653 - accuracy: 0.6829\n"
     ]
    },
    {
     "data": {
      "text/plain": [
       "[1.665305495262146, 0.6829000115394592]"
      ]
     },
     "execution_count": 35,
     "metadata": {},
     "output_type": "execute_result"
    }
   ],
   "source": [
    "cnn.evaluate(X_test,y_test)"
   ]
  },
  {
   "cell_type": "code",
   "execution_count": 68,
   "metadata": {},
   "outputs": [
    {
     "data": {
      "image/png": "[encoded data removed]",
      "text/plain": [
       "<Figure size 432x288 with 1 Axes>"
      ]
     },
     "metadata": {
      "needs_background": "light"
     },
     "output_type": "display_data"
    }
   ],
   "source": [
    "plt.plot(cnn_history.history['accuracy'])\n",
    "plt.plot(cnn_history.history['loss'])\n",
    "# plt.plot(history_ann_model.history['val_acc'])\n",
    "plt.title('Cnn : Training_accuracy vs Loss')\n",
    "plt.ylabel('accuracy')\n",
    "plt.xlabel('epoch')\n",
    "plt.legend(['train', 'loss'], loc='upper left')\n",
    "plt.show()"
   ]
  },
  {
   "cell_type": "code",
   "execution_count": 65,
   "metadata": {},
   "outputs": [
    {
     "data": {
      "image/png": "[encoded data removed]",
      "text/plain": [
       "<Figure size 432x288 with 1 Axes>"
      ]
     },
     "metadata": {
      "needs_background": "light"
     },
     "output_type": "display_data"
    }
   ],
   "source": [
    "plt.plot(cnn_history.history['accuracy'])\n",
    "\n",
    "plt.title('Cnn_Training_accuracy')\n",
    "plt.ylabel('accuracy')\n",
    "plt.xlabel('epoch')\n",
    "# plt.legend(['train', 'val'], loc='upper left')\n",
    "plt.show()"
   ]
  },
  {
   "cell_type": "code",
   "execution_count": 67,
   "metadata": {},
   "outputs": [
    {
     "data": {
      "image/png": "[encoded data removed]",
      "text/plain": [
       "<Figure size 432x288 with 1 Axes>"
      ]
     },
     "metadata": {
      "needs_background": "light"
     },
     "output_type": "display_data"
    }
   ],
   "source": [
    "plt.plot(cnn_history.history['loss'])\n",
    "\n",
    "plt.title('CNN')\n",
    "plt.ylabel('loss')\n",
    "plt.xlabel('epoch')\n",
    "# plt.legend(['train', 'val'], loc='upper left')\n",
    "plt.show()"
   ]
  },
  {
   "cell_type": "code",
   "execution_count": 37,
   "metadata": {},
   "outputs": [],
   "source": [
    "y_pred = cnn.predict(X_test)\n",
    "\n",
    "y_classes = [np.argmax(element) for element in y_pred]\n"
   ]
  },
  {
   "cell_type": "code",
   "execution_count": 38,
   "metadata": {},
   "outputs": [
    {
     "name": "stdout",
     "output_type": "stream",
     "text": [
      "Classification Report: \n",
      "               precision    recall  f1-score   support\n",
      "\n",
      "           0       0.68      0.71      0.70      1000\n",
      "           1       0.82      0.80      0.81      1000\n",
      "           2       0.59      0.52      0.55      1000\n",
      "           3       0.53      0.50      0.51      1000\n",
      "           4       0.57      0.69      0.62      1000\n",
      "           5       0.63      0.61      0.62      1000\n",
      "           6       0.78      0.72      0.75      1000\n",
      "           7       0.69      0.75      0.72      1000\n",
      "           8       0.83      0.71      0.77      1000\n",
      "           9       0.73      0.83      0.78      1000\n",
      "\n",
      "    accuracy                           0.68     10000\n",
      "   macro avg       0.69      0.68      0.68     10000\n",
      "weighted avg       0.69      0.68      0.68     10000\n",
      "\n"
     ]
    }
   ],
   "source": [
    "print(\"Classification Report: \\n\", classification_report(y_test, y_classes))"
   ]
  },
  {
   "cell_type": "code",
   "execution_count": null,
   "metadata": {},
   "outputs": [],
   "source": []
  },
  {
   "cell_type": "code",
   "execution_count": null,
   "metadata": {},
   "outputs": [],
   "source": []
  },
  {
   "cell_type": "code",
   "execution_count": null,
   "metadata": {},
   "outputs": [],
   "source": []
  },
  {
   "cell_type": "code",
   "execution_count": null,
   "metadata": {},
   "outputs": [],
   "source": []
  },
  {
   "cell_type": "code",
   "execution_count": null,
   "metadata": {},
   "outputs": [],
   "source": []
  },
  {
   "cell_type": "code",
   "execution_count": null,
   "metadata": {},
   "outputs": [],
   "source": []
  },
  {
   "cell_type": "code",
   "execution_count": null,
   "metadata": {},
   "outputs": [],
   "source": []
  }
 ],
 "metadata": {
  "kernelspec": {
   "display_name": "Python 3",
   "language": "python",
   "name": "python3"
  },
  "language_info": {
   "codemirror_mode": {
    "name": "ipython",
    "version": 3
   },
   "file_extension": ".py",
   "mimetype": "text/x-python",
   "name": "python",
   "nbconvert_exporter": "python",
   "pygments_lexer": "ipython3",
   "version": "3.7.6"
  }
 },
 "nbformat": 4,
 "nbformat_minor": 4
}
